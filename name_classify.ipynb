{
 "cells": [
  {
   "cell_type": "code",
   "execution_count": 1,
   "metadata": {},
   "outputs": [],
   "source": [
    "import pandas as pd\n",
    "import torch\n",
    "from transformers import AutoModel, AutoTokenizer, get_linear_schedule_with_warmup, logging\n",
    "from sklearn.linear_model import LogisticRegression\n",
    "from sklearn.metrics import classification_report, confusion_matrix, accuracy_score, f1_score, precision_score, recall_score\n",
    "from sklearn.model_selection import train_test_split\n",
    "from sklearn.svm import SVC\n",
    "from sklearn.naive_bayes import GaussianNB\n",
    "from sklearn.tree import DecisionTreeClassifier\n",
    "import numpy as np\n",
    "import seaborn as sns\n",
    "import matplotlib.pyplot as plt"
   ]
  },
  {
   "cell_type": "code",
   "execution_count": 2,
   "metadata": {},
   "outputs": [
    {
     "name": "stdout",
     "output_type": "stream",
     "text": [
      "                full_name  gender\n",
      "0           Ngô Xuân Tùng       1\n",
      "1       Bùi Dương Thảo Vy       0\n",
      "2             Lưu Thế Huy       1\n",
      "3          Nguyễn Thị Vân       0\n",
      "4         Dương Minh Long       1\n",
      "...                   ...     ...\n",
      "28796    Huỳnh Thu Phương       0\n",
      "28797      Mai Nguyệt Lan       0\n",
      "28798       Hà Thanh Ngân       0\n",
      "28799  Phan Thị Tuyết Nhi       0\n",
      "28800    Vũ Hoàng Thúy Vy       0\n",
      "\n",
      "[28801 rows x 2 columns]\n"
     ]
    }
   ],
   "source": [
    "data = pd.read_json(\"https://raw.githubusercontent.com/kiendoo4/final-project/main/dataset/Final_dataset.json\")\n",
    "print(data)"
   ]
  },
  {
   "cell_type": "code",
   "execution_count": 3,
   "metadata": {},
   "outputs": [],
   "source": [
    "s1 = u'ÀÁÂÃÈÉÊÌÍÒÓÔÕÙÚÝàáâãèéêìíòóôõùúýĂăĐđĨĩŨũƠơƯưẠạẢảẤấẦầẨẩẪẫẬậẮắẰằẲẳẴẵẶặẸẹẺẻẼẽẾếỀềỂểỄễỆệỈỉỊịỌọỎỏỐốỒồỔổỖỗỘộỚớỜờỞởỠỡỢợỤụỦủỨứỪừỬửỮữỰựỲỳỴỵỶỷỸỹ'\n",
    "s0 = u'AAAAEEEIIOOOOUUYaaaaeeeiioooouuyAaDdIiUuOoUuAaAaAaAaAaAaAaAaAaAaAaAaEeEeEeEeEeEeEeEeIiIiOoOoOoOoOoOoOoOoOoOoOoOoUuUuUuUuUuUuUuYyYyYyYy'\n",
    "def remove_accents(input_str):\n",
    "\ts = ''\n",
    "\tfor c in input_str:\n",
    "\t\tif c in s1:\n",
    "\t\t\ts += s0[s1.index(c)]\n",
    "\t\telse:\n",
    "\t\t\ts += c\n",
    "\treturn s.lower()"
   ]
  },
  {
   "cell_type": "code",
   "execution_count": 4,
   "metadata": {},
   "outputs": [],
   "source": [
    "data['full_name'] = data['full_name'].apply(remove_accents)"
   ]
  },
  {
   "cell_type": "code",
   "execution_count": 5,
   "metadata": {},
   "outputs": [
    {
     "name": "stdout",
     "output_type": "stream",
     "text": [
      "Number of males, females and others in data: 16613, 12188, 0\n",
      "Length of data: 28801\n"
     ]
    }
   ],
   "source": [
    "male = 0\n",
    "female = 0\n",
    "other = 0\n",
    "for line in data[\"gender\"]:\n",
    "  if line == 1:\n",
    "    male += 1\n",
    "  elif line == 0:\n",
    "    female += 1\n",
    "  else:\n",
    "    print(line)\n",
    "    other += 1\n",
    "print(\"Number of males, females and others in data: %s, %s, %s\" % (male, female, other))\n",
    "print(\"Length of data: %s\" % len(data[\"gender\"]))"
   ]
  },
  {
   "cell_type": "code",
   "execution_count": 6,
   "metadata": {},
   "outputs": [
    {
     "name": "stdout",
     "output_type": "stream",
     "text": [
      "                  full_name  gender\n",
      "1         bui duong thao vy       0\n",
      "2               luu the huy       1\n",
      "4           duong minh long       1\n",
      "5            tran mai khanh       0\n",
      "6      nguyen thi hong diep       0\n",
      "...                     ...     ...\n",
      "28794    pham doan bao chau       0\n",
      "28796      huynh thu phuong       0\n",
      "28797        mai nguyet lan       0\n",
      "28798         ha thanh ngan       0\n",
      "28800      vu hoang thuy vy       0\n",
      "\n",
      "[18598 rows x 2 columns]\n"
     ]
    }
   ],
   "source": [
    "name_counts = data['full_name'].value_counts()\n",
    "unique_names = name_counts[name_counts == 1].index\n",
    "data = data[data['full_name'].isin(unique_names)]\n",
    "print(data)"
   ]
  },
  {
   "cell_type": "code",
   "execution_count": 7,
   "metadata": {},
   "outputs": [],
   "source": [
    "X = data[\"full_name\"]\n",
    "y = data[\"gender\"]"
   ]
  },
  {
   "cell_type": "code",
   "execution_count": 8,
   "metadata": {},
   "outputs": [],
   "source": [
    "from sklearn.model_selection import train_test_split"
   ]
  },
  {
   "cell_type": "code",
   "execution_count": 9,
   "metadata": {},
   "outputs": [],
   "source": [
    "X_train, X_test, y_train, y_test = train_test_split(X, y, test_size=0.2, random_state=42, shuffle=False)\n",
    "\n",
    "X_train = X\n",
    "y_train = y"
   ]
  },
  {
   "cell_type": "code",
   "execution_count": 11,
   "metadata": {},
   "outputs": [
    {
     "name": "stdout",
     "output_type": "stream",
     "text": [
      "{'input_ids': tensor([[    0,  3763,  1111,  ...,     1,     1,     1],\n",
      "        [    0,  3198,  1656,  ...,     1,     1,     1],\n",
      "        [    0,  6190,  2662,  ...,     1,     1,     1],\n",
      "        ...,\n",
      "        [    0,  3189, 27497,  ...,     1,     1,     1],\n",
      "        [    0,   953,  2106,  ...,     1,     1,     1],\n",
      "        [    0, 21639,  6425,  ...,     1,     1,     1]]), 'token_type_ids': tensor([[0, 0, 0,  ..., 0, 0, 0],\n",
      "        [0, 0, 0,  ..., 0, 0, 0],\n",
      "        [0, 0, 0,  ..., 0, 0, 0],\n",
      "        ...,\n",
      "        [0, 0, 0,  ..., 0, 0, 0],\n",
      "        [0, 0, 0,  ..., 0, 0, 0],\n",
      "        [0, 0, 0,  ..., 0, 0, 0]]), 'attention_mask': tensor([[1, 1, 1,  ..., 0, 0, 0],\n",
      "        [1, 1, 1,  ..., 0, 0, 0],\n",
      "        [1, 1, 1,  ..., 0, 0, 0],\n",
      "        ...,\n",
      "        [1, 1, 1,  ..., 0, 0, 0],\n",
      "        [1, 1, 1,  ..., 0, 0, 0],\n",
      "        [1, 1, 1,  ..., 0, 0, 0]])}\n"
     ]
    }
   ],
   "source": [
    "phobert = AutoModel.from_pretrained(\"./generative_model/phobert_pretrain\")\n",
    "tokenizer = AutoTokenizer.from_pretrained(\"vinai/phobert-base-v2\")\n",
    "X_train_encoded = tokenizer.batch_encode_plus(\n",
    "    X_train.tolist(),\n",
    "    padding=True,\n",
    "    truncation=True,\n",
    "    max_length=256,\n",
    "    return_tensors=\"pt\"\n",
    ")\n",
    "X_test_encoded = tokenizer.batch_encode_plus(\n",
    "    X_test.tolist(),\n",
    "    padding=True,\n",
    "    truncation=True,\n",
    "    max_length=256,\n",
    "    return_tensors=\"pt\"\n",
    ")\n",
    "print(X_train_encoded)"
   ]
  },
  {
   "cell_type": "code",
   "execution_count": 12,
   "metadata": {},
   "outputs": [],
   "source": [
    "with torch.no_grad():\n",
    "    X_train_embeddings = phobert(\n",
    "        input_ids=X_train_encoded['input_ids'],\n",
    "        attention_mask=X_train_encoded['attention_mask']\n",
    "    ).pooler_output\n",
    "    X_test_embeddings = phobert(\n",
    "        input_ids=X_test_encoded['input_ids'],\n",
    "        attention_mask=X_test_encoded['attention_mask']\n",
    "    ).pooler_output"
   ]
  },
  {
   "cell_type": "code",
   "execution_count": 13,
   "metadata": {},
   "outputs": [
    {
     "name": "stdout",
     "output_type": "stream",
     "text": [
      "<class 'numpy.ndarray'>\n"
     ]
    }
   ],
   "source": [
    "X_train_embeddings = X_train_embeddings.cpu().numpy()\n",
    "X_test_embeddings = X_test_embeddings.cpu().numpy()\n",
    "print(type(X_train_embeddings))"
   ]
  },
  {
   "cell_type": "code",
   "execution_count": 14,
   "metadata": {},
   "outputs": [],
   "source": [
    "from sklearn.neural_network import MLPClassifier"
   ]
  },
  {
   "cell_type": "code",
   "execution_count": 15,
   "metadata": {},
   "outputs": [
    {
     "name": "stdout",
     "output_type": "stream",
     "text": [
      "              precision    recall  f1-score   support\n",
      "\n",
      "           0    0.99937   1.00000   0.99969      1587\n",
      "           1    1.00000   0.99953   0.99977      2133\n",
      "\n",
      "    accuracy                        0.99973      3720\n",
      "   macro avg    0.99969   0.99977   0.99973      3720\n",
      "weighted avg    0.99973   0.99973   0.99973      3720\n",
      "\n",
      "Precision score of using Logistic Regression: 0.9996851385390428\n",
      "Recall score of using Logistic Regression: 0.9997655883731833\n",
      "F1-score of using Logistic Regression: 0.9997252863907838\n"
     ]
    }
   ],
   "source": [
    "mlp = MLPClassifier(hidden_layer_sizes=(64, 32),max_iter=1000, random_state=42)\n",
    "mlp.fit(X_train_embeddings, y_train)\n",
    "\n",
    "# Predict on the test set\n",
    "y_pred = mlp.predict(X_test_embeddings)\n",
    "\n",
    "# Evaluate the model\n",
    "\n",
    "print(classification_report(y_test, y_pred, digits = 5))\n",
    "print(\"Precision score of using Logistic Regression:\", precision_score(y_test, y_pred, average='macro'))\n",
    "print(\"Recall score of using Logistic Regression:\", recall_score(y_test, y_pred, average='macro'))\n",
    "print(\"F1-score of using Logistic Regression:\", f1_score(y_test, y_pred, average='macro'))"
   ]
  },
  {
   "cell_type": "code",
   "execution_count": 16,
   "metadata": {},
   "outputs": [
    {
     "data": {
      "image/png": "[encoded data removed]",
      "text/plain": [
       "<Figure size 800x600 with 1 Axes>"
      ]
     },
     "metadata": {},
     "output_type": "display_data"
    }
   ],
   "source": [
    "plt.figure(figsize=(8, 6))\n",
    "cm = confusion_matrix(y_test, y_pred)\n",
    "sns.heatmap(cm, annot=True, fmt=\"d\", cmap=\"Blues\", cbar=False)\n",
    "plt.title(\"Confusion Matrix using Logistic Regression Classifier\")\n",
    "plt.xlabel(\"Predicted Labels\")\n",
    "plt.ylabel(\"True Labels\")\n",
    "plt.show()"
   ]
  },
  {
   "cell_type": "code",
   "execution_count": 17,
   "metadata": {},
   "outputs": [
    {
     "data": {
      "text/plain": [
       "array([1])"
      ]
     },
     "execution_count": 17,
     "metadata": {},
     "output_type": "execute_result"
    }
   ],
   "source": [
    "data_test = [\"le thanh long\"]\n",
    "X_test_encoded = tokenizer.batch_encode_plus(\n",
    "    data_test,\n",
    "    padding=True,\n",
    "    truncation=True,\n",
    "    max_length=256,\n",
    "    return_tensors=\"pt\"\n",
    ")\n",
    "with torch.no_grad():\n",
    "    X_test_embeddings = phobert(\n",
    "        input_ids=X_test_encoded['input_ids'],\n",
    "        attention_mask=X_test_encoded['attention_mask']\n",
    "    ).pooler_output\n",
    "X_test_embeddings = X_test_embeddings.cpu().numpy()\n",
    "mlp.predict(X_test_embeddings)"
   ]
  },
  {
   "cell_type": "code",
   "execution_count": 18,
   "metadata": {},
   "outputs": [],
   "source": [
    "from joblib import load, dump"
   ]
  },
  {
   "cell_type": "code",
   "execution_count": 19,
   "metadata": {},
   "outputs": [],
   "source": [
    "dump(mlp, \"./name_cls.joblib\")\n",
    "load_model = load('./name_cls.joblib')"
   ]
  },
  {
   "cell_type": "code",
   "execution_count": 20,
   "metadata": {},
   "outputs": [
    {
     "data": {
      "text/plain": [
       "array([1])"
      ]
     },
     "execution_count": 20,
     "metadata": {},
     "output_type": "execute_result"
    }
   ],
   "source": [
    "data_test = [\"cao thanh duy\"]\n",
    "X_test_encoded = tokenizer.batch_encode_plus(\n",
    "    data_test,\n",
    "    padding=True,\n",
    "    truncation=True,\n",
    "    max_length=256,\n",
    "    return_tensors=\"pt\"\n",
    ")\n",
    "with torch.no_grad():\n",
    "    X_test_embeddings = phobert(\n",
    "        input_ids=X_test_encoded['input_ids'],\n",
    "        attention_mask=X_test_encoded['attention_mask']\n",
    "    ).pooler_output\n",
    "X_test_embeddings = X_test_embeddings.cpu().numpy()\n",
    "load_model.predict(X_test_embeddings)"
   ]
  }
 ],
 "metadata": {
  "kernelspec": {
   "display_name": "mlops-env",
   "language": "python",
   "name": "python3"
  },
  "language_info": {
   "codemirror_mode": {
    "name": "ipython",
    "version": 3
   },
   "file_extension": ".py",
   "mimetype": "text/x-python",
   "name": "python",
   "nbconvert_exporter": "python",
   "pygments_lexer": "ipython3",
   "version": "3.10.4"
  }
 },
 "nbformat": 4,
 "nbformat_minor": 2
}
